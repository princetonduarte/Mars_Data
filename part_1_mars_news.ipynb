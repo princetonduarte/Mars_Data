{
 "cells": [
  {
   "cell_type": "markdown",
   "metadata": {},
   "source": [
    "# Module 12 Challenge\n",
    "## Deliverable 1: Scrape Titles and Preview Text from Mars News"
   ]
  },
  {
   "cell_type": "code",
   "execution_count": 1,
   "metadata": {},
   "outputs": [],
   "source": [
    "# Import Splinter and BeautifulSoup\n",
    "from splinter import Browser\n",
    "from bs4 import BeautifulSoup as soup\n",
    "from webdriver_manager.chrome import ChromeDriverManager"
   ]
  },
  {
   "cell_type": "code",
   "execution_count": 2,
   "metadata": {
    "scrolled": true
   },
   "outputs": [
    {
     "name": "stderr",
     "output_type": "stream",
     "text": [
      "[WDM] - Downloading: 100%|█████████████████████████████████████████| 8.72M/8.72M [00:00<00:00, 11.6MB/s]\n"
     ]
    }
   ],
   "source": [
    "executable_path = {'executable_path': ChromeDriverManager().install()}\n",
    "browser = Browser('chrome', **executable_path, headless=False)"
   ]
  },
  {
   "cell_type": "markdown",
   "metadata": {},
   "source": [
    "### Step 1: Visit the Website\n",
    "\n",
    "1. Use automated browsing to visit the [Mars NASA news site](https://redplanetscience.com). Inspect the page to identify which elements to scrape.\n",
    "\n",
    "      > **Hint** To identify which elements to scrape, you might want to inspect the page by using Chrome DevTools."
   ]
  },
  {
   "cell_type": "code",
   "execution_count": 3,
   "metadata": {},
   "outputs": [],
   "source": [
    "# Visit the Mars NASA news site: https://redplanetscience.com\n",
    "url = 'https://redplanetscience.com'\n",
    "browser.visit(url)"
   ]
  },
  {
   "cell_type": "markdown",
   "metadata": {},
   "source": [
    "### Step 2: Scrape the Website\n",
    "\n",
    "Create a Beautiful Soup object and use it to extract text elements from the website."
   ]
  },
  {
   "cell_type": "code",
   "execution_count": 4,
   "metadata": {},
   "outputs": [],
   "source": [
    "# Create a Beautiful Soup object\n",
    "html = browser.html\n",
    "html_soup = soup(html, 'html.parser')"
   ]
  },
  {
   "cell_type": "code",
   "execution_count": 5,
   "metadata": {},
   "outputs": [
    {
     "data": {
      "text/plain": [
       "[<div class=\"list_text\">\n",
       " <div class=\"list_date\">January 29, 2023</div>\n",
       " <div class=\"content_title\">Independent Review Indicates NASA Prepared for Mars Sample Return Campaign</div>\n",
       " <div class=\"article_teaser_body\">NASA released an independent review report Tuesday indicating the agency is well positioned for its Mars Sample Return campaign to bring pristine samples from Mars to Earth for scientific study.</div>\n",
       " </div>,\n",
       " <div class=\"list_text\">\n",
       " <div class=\"list_date\">January 28, 2023</div>\n",
       " <div class=\"content_title\">NASA's Perseverance Rover Is Midway to Mars </div>\n",
       " <div class=\"article_teaser_body\">Sometimes half measures can be a good thing – especially on a journey this long. The agency's latest rover only has about 146 million miles left to reach its destination.</div>\n",
       " </div>,\n",
       " <div class=\"list_text\">\n",
       " <div class=\"list_date\">January 26, 2023</div>\n",
       " <div class=\"content_title\">Celebrate Mars Reconnaissance Orbiter's Views From Above</div>\n",
       " <div class=\"article_teaser_body\">Marking its 15th anniversary since launch, one of the oldest spacecraft at the Red Planet has provided glimpses of dust devils, avalanches, and more.</div>\n",
       " </div>,\n",
       " <div class=\"list_text\">\n",
       " <div class=\"list_date\">January 24, 2023</div>\n",
       " <div class=\"content_title\">Mars InSight Lander to Push on Top of the 'Mole'</div>\n",
       " <div class=\"article_teaser_body\">Engineers have a plan for pushing down on the heat probe, which has been stuck at the Martian surface for a year.</div>\n",
       " </div>,\n",
       " <div class=\"list_text\">\n",
       " <div class=\"list_date\">January 17, 2023</div>\n",
       " <div class=\"content_title\">NASA-JPL Names 'Rolling Stones Rock' on Mars</div>\n",
       " <div class=\"article_teaser_body\">NASA's Mars InSight mission honored one of the biggest bands of all time at Pasadena concert.</div>\n",
       " </div>,\n",
       " <div class=\"list_text\">\n",
       " <div class=\"list_date\">January 17, 2023</div>\n",
       " <div class=\"content_title\">Curiosity Mars Rover's Summer Road Trip Has Begun</div>\n",
       " <div class=\"article_teaser_body\">After more than a year in the \"clay-bearing unit,\" Curiosity is making a mile-long journey around some deep sand so that it can explore higher up Mount Sharp.</div>\n",
       " </div>,\n",
       " <div class=\"list_text\">\n",
       " <div class=\"list_date\">January 17, 2023</div>\n",
       " <div class=\"content_title\">A New Video Captures the Science of NASA's Perseverance Mars Rover</div>\n",
       " <div class=\"article_teaser_body\">With a targeted launch date of July 30, the next robotic scientist NASA is sending to the to the Red Planet has big ambitions.</div>\n",
       " </div>,\n",
       " <div class=\"list_text\">\n",
       " <div class=\"list_date\">January 17, 2023</div>\n",
       " <div class=\"content_title\">NASA's Mars 2020 Rover Goes Coast-to-Coast to Prep for Launch</div>\n",
       " <div class=\"article_teaser_body\">The agency's first step in returning rocks from Mars just arrived at Kennedy Space Center. The Mars 2020 team now begins readying for a launch to the Red Planet this July.</div>\n",
       " </div>,\n",
       " <div class=\"list_text\">\n",
       " <div class=\"list_date\">January 14, 2023</div>\n",
       " <div class=\"content_title\">Deadline Closing for Names to Fly on NASA's Next Mars Rover</div>\n",
       " <div class=\"article_teaser_body\">You have until Sept. 30 to send your names to Mars aboard the Mars 2020 rover. </div>\n",
       " </div>,\n",
       " <div class=\"list_text\">\n",
       " <div class=\"list_date\">January 11, 2023</div>\n",
       " <div class=\"content_title\">NASA's Perseverance Rover Will Look at Mars Through These 'Eyes'</div>\n",
       " <div class=\"article_teaser_body\">A pair of zoomable cameras will help scientists and rover drivers with high-resolution color images.</div>\n",
       " </div>,\n",
       " <div class=\"list_text\">\n",
       " <div class=\"list_date\">January 8, 2023</div>\n",
       " <div class=\"content_title\">AI Is Helping Scientists Discover Fresh Craters on Mars</div>\n",
       " <div class=\"article_teaser_body\">It's the first time machine learning has been used to find previously unknown craters on the Red Planet.</div>\n",
       " </div>,\n",
       " <div class=\"list_text\">\n",
       " <div class=\"list_date\">January 1, 2023</div>\n",
       " <div class=\"content_title\">Mars Is Getting a New Robotic Meteorologist</div>\n",
       " <div class=\"article_teaser_body\">Sensors on NASA's Perseverance will help prepare for future human exploration by taking weather measurements and studying dust particles.</div>\n",
       " </div>,\n",
       " <div class=\"list_text\">\n",
       " <div class=\"list_date\">December 31, 2022</div>\n",
       " <div class=\"content_title\">The Launch Is Approaching for NASA's Next Mars Rover, Perseverance</div>\n",
       " <div class=\"article_teaser_body\">The Red Planet's surface has been visited by eight NASA spacecraft. The ninth will be the first that includes a roundtrip ticket in its flight plan. </div>\n",
       " </div>,\n",
       " <div class=\"list_text\">\n",
       " <div class=\"list_date\">December 30, 2022</div>\n",
       " <div class=\"content_title\">5 Hidden Gems Are Riding Aboard NASA's Perseverance Rover</div>\n",
       " <div class=\"article_teaser_body\">The symbols, mottos, and small objects added to the agency's newest Mars rover serve a variety of purposes, from functional to decorative.</div>\n",
       " </div>,\n",
       " <div class=\"list_text\">\n",
       " <div class=\"list_date\">December 29, 2022</div>\n",
       " <div class=\"content_title\">NASA Engineers Checking InSight's Weather Sensors</div>\n",
       " <div class=\"article_teaser_body\">An electronics issue is suspected to be preventing the sensors from sharing their data about Mars weather with the spacecraft.</div>\n",
       " </div>]"
      ]
     },
     "execution_count": 5,
     "metadata": {},
     "output_type": "execute_result"
    }
   ],
   "source": [
    "# Extract all the text elements\n",
    "text_content = html_soup.find_all('div', class_=\"list_text\")\n",
    "text_content"
   ]
  },
  {
   "cell_type": "markdown",
   "metadata": {},
   "source": [
    "### Step 3: Store the Results\n",
    "\n",
    "Extract the titles and preview text of the news articles that you scraped. Store the scraping results in Python data structures as follows:\n",
    "\n",
    "* Store each title-and-preview pair in a Python dictionary. And, give each dictionary two keys: `title` and `preview`. An example is the following:\n",
    "\n",
    "  ```python\n",
    "  {'title': \"Mars Rover Begins Mission!\", \n",
    "        'preview': \"NASA's Mars Rover begins a multiyear mission to collect data about the little-explored planet.\"}\n",
    "  ```\n",
    "\n",
    "* Store all the dictionaries in a Python list.\n",
    "\n",
    "* Print the list in your notebook."
   ]
  },
  {
   "cell_type": "code",
   "execution_count": 6,
   "metadata": {},
   "outputs": [],
   "source": [
    "# Create an empty list to store the dictionaries\n",
    "article_list = []"
   ]
  },
  {
   "cell_type": "code",
   "execution_count": 7,
   "metadata": {},
   "outputs": [],
   "source": [
    "# Loop through the text elements\n",
    "# Extract the title and preview text from the elements\n",
    "# Store each title and preview pair in a dictionary\n",
    "# Add the dictionary to the list\n",
    "for x in text_content:\n",
    "    header = x.find(\"div\", class_=\"content_title\").text\n",
    "    text_pre = x.find(\"div\", class_=\"article_teaser_body\").text\n",
    "    \n",
    "    summary_dict = {\n",
    "            \"title\": header,\n",
    "            \"preview\": text_pre\n",
    "        }\n",
    "    article_list.append(summary_dict)"
   ]
  },
  {
   "cell_type": "code",
   "execution_count": 8,
   "metadata": {},
   "outputs": [
    {
     "data": {
      "text/plain": [
       "[{'title': 'Independent Review Indicates NASA Prepared for Mars Sample Return Campaign',\n",
       "  'preview': 'NASA released an independent review report Tuesday indicating the agency is well positioned for its Mars Sample Return campaign to bring pristine samples from Mars to Earth for scientific study.'},\n",
       " {'title': \"NASA's Perseverance Rover Is Midway to Mars \",\n",
       "  'preview': \"Sometimes half measures can be a good thing – especially on a journey this long. The agency's latest rover only has about 146 million miles left to reach its destination.\"},\n",
       " {'title': \"Celebrate Mars Reconnaissance Orbiter's Views From Above\",\n",
       "  'preview': 'Marking its 15th anniversary since launch, one of the oldest spacecraft at the Red Planet has provided glimpses of dust devils, avalanches, and more.'},\n",
       " {'title': \"Mars InSight Lander to Push on Top of the 'Mole'\",\n",
       "  'preview': 'Engineers have a plan for pushing down on the heat probe, which has been stuck at the Martian surface for a year.'},\n",
       " {'title': \"NASA-JPL Names 'Rolling Stones Rock' on Mars\",\n",
       "  'preview': \"NASA's Mars InSight mission honored one of the biggest bands of all time at Pasadena concert.\"},\n",
       " {'title': \"Curiosity Mars Rover's Summer Road Trip Has Begun\",\n",
       "  'preview': 'After more than a year in the \"clay-bearing unit,\" Curiosity is making a mile-long journey around some deep sand so that it can explore higher up Mount Sharp.'},\n",
       " {'title': \"A New Video Captures the Science of NASA's Perseverance Mars Rover\",\n",
       "  'preview': 'With a targeted launch date of July 30, the next robotic scientist NASA is sending to the to the Red Planet has big ambitions.'},\n",
       " {'title': \"NASA's Mars 2020 Rover Goes Coast-to-Coast to Prep for Launch\",\n",
       "  'preview': \"The agency's first step in returning rocks from Mars just arrived at Kennedy Space Center. The Mars 2020 team now begins readying for a launch to the Red Planet this July.\"},\n",
       " {'title': \"Deadline Closing for Names to Fly on NASA's Next Mars Rover\",\n",
       "  'preview': 'You have until Sept. 30 to send your names to Mars aboard the Mars 2020 rover. '},\n",
       " {'title': \"NASA's Perseverance Rover Will Look at Mars Through These 'Eyes'\",\n",
       "  'preview': 'A pair of zoomable cameras will help scientists and rover drivers with high-resolution color images.'},\n",
       " {'title': 'AI Is Helping Scientists Discover Fresh Craters on Mars',\n",
       "  'preview': \"It's the first time machine learning has been used to find previously unknown craters on the Red Planet.\"},\n",
       " {'title': 'Mars Is Getting a New Robotic Meteorologist',\n",
       "  'preview': \"Sensors on NASA's Perseverance will help prepare for future human exploration by taking weather measurements and studying dust particles.\"},\n",
       " {'title': \"The Launch Is Approaching for NASA's Next Mars Rover, Perseverance\",\n",
       "  'preview': \"The Red Planet's surface has been visited by eight NASA spacecraft. The ninth will be the first that includes a roundtrip ticket in its flight plan. \"},\n",
       " {'title': \"5 Hidden Gems Are Riding Aboard NASA's Perseverance Rover\",\n",
       "  'preview': \"The symbols, mottos, and small objects added to the agency's newest Mars rover serve a variety of purposes, from functional to decorative.\"},\n",
       " {'title': \"NASA Engineers Checking InSight's Weather Sensors\",\n",
       "  'preview': 'An electronics issue is suspected to be preventing the sensors from sharing their data about Mars weather with the spacecraft.'}]"
      ]
     },
     "execution_count": 8,
     "metadata": {},
     "output_type": "execute_result"
    }
   ],
   "source": [
    "# Print the list to confirm success\n",
    "article_list"
   ]
  },
  {
   "cell_type": "code",
   "execution_count": 9,
   "metadata": {},
   "outputs": [],
   "source": [
    "browser.quit()"
   ]
  },
  {
   "cell_type": "markdown",
   "metadata": {},
   "source": [
    "### (Optional) Step 4: Export the Data\n",
    "\n",
    "Optionally, store the scraped data in a file or database (to ease sharing the data with others). To do so, export the scraped data to either a JSON file or a MongoDB database."
   ]
  },
  {
   "cell_type": "code",
   "execution_count": 13,
   "metadata": {},
   "outputs": [
    {
     "data": {
      "text/html": [
       "<div>\n",
       "<style scoped>\n",
       "    .dataframe tbody tr th:only-of-type {\n",
       "        vertical-align: middle;\n",
       "    }\n",
       "\n",
       "    .dataframe tbody tr th {\n",
       "        vertical-align: top;\n",
       "    }\n",
       "\n",
       "    .dataframe thead th {\n",
       "        text-align: right;\n",
       "    }\n",
       "</style>\n",
       "<table border=\"1\" class=\"dataframe\">\n",
       "  <thead>\n",
       "    <tr style=\"text-align: right;\">\n",
       "      <th></th>\n",
       "      <th>title</th>\n",
       "      <th>preview</th>\n",
       "    </tr>\n",
       "  </thead>\n",
       "  <tbody>\n",
       "    <tr>\n",
       "      <th>0</th>\n",
       "      <td>Independent Review Indicates NASA Prepared for...</td>\n",
       "      <td>NASA released an independent review report Tue...</td>\n",
       "    </tr>\n",
       "    <tr>\n",
       "      <th>1</th>\n",
       "      <td>NASA's Perseverance Rover Is Midway to Mars</td>\n",
       "      <td>Sometimes half measures can be a good thing – ...</td>\n",
       "    </tr>\n",
       "    <tr>\n",
       "      <th>2</th>\n",
       "      <td>Celebrate Mars Reconnaissance Orbiter's Views ...</td>\n",
       "      <td>Marking its 15th anniversary since launch, one...</td>\n",
       "    </tr>\n",
       "    <tr>\n",
       "      <th>3</th>\n",
       "      <td>Mars InSight Lander to Push on Top of the 'Mole'</td>\n",
       "      <td>Engineers have a plan for pushing down on the ...</td>\n",
       "    </tr>\n",
       "    <tr>\n",
       "      <th>4</th>\n",
       "      <td>NASA-JPL Names 'Rolling Stones Rock' on Mars</td>\n",
       "      <td>NASA's Mars InSight mission honored one of the...</td>\n",
       "    </tr>\n",
       "    <tr>\n",
       "      <th>5</th>\n",
       "      <td>Curiosity Mars Rover's Summer Road Trip Has Begun</td>\n",
       "      <td>After more than a year in the \"clay-bearing un...</td>\n",
       "    </tr>\n",
       "    <tr>\n",
       "      <th>6</th>\n",
       "      <td>A New Video Captures the Science of NASA's Per...</td>\n",
       "      <td>With a targeted launch date of July 30, the ne...</td>\n",
       "    </tr>\n",
       "    <tr>\n",
       "      <th>7</th>\n",
       "      <td>NASA's Mars 2020 Rover Goes Coast-to-Coast to ...</td>\n",
       "      <td>The agency's first step in returning rocks fro...</td>\n",
       "    </tr>\n",
       "    <tr>\n",
       "      <th>8</th>\n",
       "      <td>Deadline Closing for Names to Fly on NASA's Ne...</td>\n",
       "      <td>You have until Sept. 30 to send your names to ...</td>\n",
       "    </tr>\n",
       "    <tr>\n",
       "      <th>9</th>\n",
       "      <td>NASA's Perseverance Rover Will Look at Mars Th...</td>\n",
       "      <td>A pair of zoomable cameras will help scientist...</td>\n",
       "    </tr>\n",
       "    <tr>\n",
       "      <th>10</th>\n",
       "      <td>AI Is Helping Scientists Discover Fresh Crater...</td>\n",
       "      <td>It's the first time machine learning has been ...</td>\n",
       "    </tr>\n",
       "    <tr>\n",
       "      <th>11</th>\n",
       "      <td>Mars Is Getting a New Robotic Meteorologist</td>\n",
       "      <td>Sensors on NASA's Perseverance will help prepa...</td>\n",
       "    </tr>\n",
       "    <tr>\n",
       "      <th>12</th>\n",
       "      <td>The Launch Is Approaching for NASA's Next Mars...</td>\n",
       "      <td>The Red Planet's surface has been visited by e...</td>\n",
       "    </tr>\n",
       "    <tr>\n",
       "      <th>13</th>\n",
       "      <td>5 Hidden Gems Are Riding Aboard NASA's Perseve...</td>\n",
       "      <td>The symbols, mottos, and small objects added t...</td>\n",
       "    </tr>\n",
       "    <tr>\n",
       "      <th>14</th>\n",
       "      <td>NASA Engineers Checking InSight's Weather Sensors</td>\n",
       "      <td>An electronics issue is suspected to be preven...</td>\n",
       "    </tr>\n",
       "  </tbody>\n",
       "</table>\n",
       "</div>"
      ],
      "text/plain": [
       "                                                title  \\\n",
       "0   Independent Review Indicates NASA Prepared for...   \n",
       "1        NASA's Perseverance Rover Is Midway to Mars    \n",
       "2   Celebrate Mars Reconnaissance Orbiter's Views ...   \n",
       "3    Mars InSight Lander to Push on Top of the 'Mole'   \n",
       "4        NASA-JPL Names 'Rolling Stones Rock' on Mars   \n",
       "5   Curiosity Mars Rover's Summer Road Trip Has Begun   \n",
       "6   A New Video Captures the Science of NASA's Per...   \n",
       "7   NASA's Mars 2020 Rover Goes Coast-to-Coast to ...   \n",
       "8   Deadline Closing for Names to Fly on NASA's Ne...   \n",
       "9   NASA's Perseverance Rover Will Look at Mars Th...   \n",
       "10  AI Is Helping Scientists Discover Fresh Crater...   \n",
       "11        Mars Is Getting a New Robotic Meteorologist   \n",
       "12  The Launch Is Approaching for NASA's Next Mars...   \n",
       "13  5 Hidden Gems Are Riding Aboard NASA's Perseve...   \n",
       "14  NASA Engineers Checking InSight's Weather Sensors   \n",
       "\n",
       "                                              preview  \n",
       "0   NASA released an independent review report Tue...  \n",
       "1   Sometimes half measures can be a good thing – ...  \n",
       "2   Marking its 15th anniversary since launch, one...  \n",
       "3   Engineers have a plan for pushing down on the ...  \n",
       "4   NASA's Mars InSight mission honored one of the...  \n",
       "5   After more than a year in the \"clay-bearing un...  \n",
       "6   With a targeted launch date of July 30, the ne...  \n",
       "7   The agency's first step in returning rocks fro...  \n",
       "8   You have until Sept. 30 to send your names to ...  \n",
       "9   A pair of zoomable cameras will help scientist...  \n",
       "10  It's the first time machine learning has been ...  \n",
       "11  Sensors on NASA's Perseverance will help prepa...  \n",
       "12  The Red Planet's surface has been visited by e...  \n",
       "13  The symbols, mottos, and small objects added t...  \n",
       "14  An electronics issue is suspected to be preven...  "
      ]
     },
     "execution_count": 13,
     "metadata": {},
     "output_type": "execute_result"
    }
   ],
   "source": [
    "# Export data to JSON\n",
    "import pandas as pd\n",
    "df = pd.DataFrame(article_list)\n",
    "df.to_json(\"article_list.txt\")\n",
    "df"
   ]
  },
  {
   "cell_type": "code",
   "execution_count": null,
   "metadata": {},
   "outputs": [],
   "source": [
    "# Export data to MongoDB\n"
   ]
  }
 ],
 "metadata": {
  "kernelspec": {
   "display_name": "Python 3 (ipykernel)",
   "language": "python",
   "name": "python3"
  },
  "language_info": {
   "codemirror_mode": {
    "name": "ipython",
    "version": 3
   },
   "file_extension": ".py",
   "mimetype": "text/x-python",
   "name": "python",
   "nbconvert_exporter": "python",
   "pygments_lexer": "ipython3",
   "version": "3.9.12"
  }
 },
 "nbformat": 4,
 "nbformat_minor": 4
}
